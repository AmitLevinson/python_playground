{
 "cells": [
  {
   "cell_type": "raw",
   "id": "047e82cc",
   "metadata": {},
   "source": [
    "---\n",
    "title: Gas Prices in Israel data cleaning\n",
    "author: Amit Levinson\n",
    "date: 'June 27, 2022'\n",
    "format:\n",
    "  html:\n",
    "    code-fold: false\n",
    "execute: \n",
    "  enabled: true\n",
    "keep-ipynb: true\n",
    "---"
   ]
  },
  {
   "cell_type": "markdown",
   "id": "3a2fd241",
   "metadata": {},
   "source": [
    "<br>"
   ]
  },
  {
   "cell_type": "markdown",
   "id": "988c9d42",
   "metadata": {},
   "source": [
    "Curious about gas prices in Israel I found a [governmental webpage](https://www.gov.il/he/departments/general/fuel_price_historycal) with some messy data detailing gas prices over the year. It was a great opportunity to practice data cleaning in Python (documented below) and later on rendering it as a [Quarto](https://quarto.org/) document. \n",
    "\n",
    "Try it yourself? Download the excel files from the link above or already unzipped from [my GitHub repo](https://github.com/AmitLevinson/python_playground/tree/main/gas_price/data)."
   ]
  },
  {
   "cell_type": "markdown",
   "id": "fa881526",
   "metadata": {},
   "source": [
    "<details>\n",
    "    <summary><b>Click here for the solution</b></summary>"
   ]
  },
  {
   "cell_type": "markdown",
   "id": "c31bf459",
   "metadata": {},
   "source": [
    "#### Data cleaning"
   ]
  },
  {
   "cell_type": "code",
   "execution_count": 1,
   "id": "b776d887",
   "metadata": {},
   "outputs": [],
   "source": [
    "import pandas as pd\n",
    "import matplotlib.pyplot as plt\n",
    "import os"
   ]
  },
  {
   "cell_type": "code",
   "execution_count": 2,
   "id": "d515aa6b",
   "metadata": {},
   "outputs": [
    {
     "data": {
      "text/plain": [
       "['stationprice2011.xls', 'stationprice2012.xls', 'stationprice2013.xls']"
      ]
     },
     "execution_count": 2,
     "metadata": {},
     "output_type": "execute_result"
    }
   ],
   "source": [
    "files = os.listdir('data/')\n",
    "\n",
    "files[0:3]"
   ]
  },
  {
   "cell_type": "code",
   "execution_count": 3,
   "id": "92d31490",
   "metadata": {},
   "outputs": [],
   "source": [
    "def read_clean_file(file_path):\n",
    "    rawdata = pd.read_excel('data/'+file_path)\n",
    "    rownum = rawdata.index[rawdata.iloc[:,0] == 'תאריך'].tolist()\n",
    "    if not rownum:\n",
    "        rownum = rawdata.index[rawdata.iloc[:,1] == 'תאריך'].tolist()\n",
    "        rownum = int(rownum[0])\n",
    "    else:\n",
    "        rownum = int(rownum[0])\n",
    "        \n",
    "    df =pd.read_excel('data/' +file_path, skiprows = rownum + 1)\n",
    "    \n",
    "    clean_df = (df\n",
    "                .rename(columns = {\"תאריך\": \"datte\", 'בנזין 95 אוקטן נטול עופרת' :'gas_price', \"תוספת בעד שירות מלא\": 'additional_price_full_service'})\n",
    "                .loc[:, ['datte', 'gas_price', 'additional_price_full_service']]\n",
    "                .dropna()\n",
    "                .assign(datte = lambda x: pd.to_datetime(x['datte']))\n",
    "        )\n",
    "    \n",
    "    return(clean_df)"
   ]
  },
  {
   "cell_type": "code",
   "execution_count": 4,
   "id": "36639f13",
   "metadata": {},
   "outputs": [],
   "source": [
    "dfs = list(map(read_clean_file, files))\n",
    "gasprice = pd.concat(dfs)"
   ]
  },
  {
   "cell_type": "markdown",
   "id": "ae9b4c1d",
   "metadata": {},
   "source": [
    "</details>"
   ]
  },
  {
   "cell_type": "code",
   "execution_count": 5,
   "id": "0104a596",
   "metadata": {},
   "outputs": [
    {
     "data": {
      "text/html": [
       "<div>\n",
       "<style scoped>\n",
       "    .dataframe tbody tr th:only-of-type {\n",
       "        vertical-align: middle;\n",
       "    }\n",
       "\n",
       "    .dataframe tbody tr th {\n",
       "        vertical-align: top;\n",
       "    }\n",
       "\n",
       "    .dataframe thead th {\n",
       "        text-align: right;\n",
       "    }\n",
       "</style>\n",
       "<table border=\"1\" class=\"dataframe\">\n",
       "  <thead>\n",
       "    <tr style=\"text-align: right;\">\n",
       "      <th></th>\n",
       "      <th>datte</th>\n",
       "      <th>gas_price</th>\n",
       "      <th>additional_price_full_service</th>\n",
       "    </tr>\n",
       "  </thead>\n",
       "  <tbody>\n",
       "    <tr>\n",
       "      <th>0</th>\n",
       "      <td>2011-01-02</td>\n",
       "      <td>7.14</td>\n",
       "      <td>0.13</td>\n",
       "    </tr>\n",
       "    <tr>\n",
       "      <th>1</th>\n",
       "      <td>2011-02-01</td>\n",
       "      <td>7.26</td>\n",
       "      <td>0.13</td>\n",
       "    </tr>\n",
       "    <tr>\n",
       "      <th>2</th>\n",
       "      <td>2011-02-14</td>\n",
       "      <td>7.02</td>\n",
       "      <td>0.13</td>\n",
       "    </tr>\n",
       "    <tr>\n",
       "      <th>3</th>\n",
       "      <td>2011-03-01</td>\n",
       "      <td>7.30</td>\n",
       "      <td>0.13</td>\n",
       "    </tr>\n",
       "    <tr>\n",
       "      <th>4</th>\n",
       "      <td>2011-04-01</td>\n",
       "      <td>7.39</td>\n",
       "      <td>0.13</td>\n",
       "    </tr>\n",
       "    <tr>\n",
       "      <th>...</th>\n",
       "      <td>...</td>\n",
       "      <td>...</td>\n",
       "      <td>...</td>\n",
       "    </tr>\n",
       "    <tr>\n",
       "      <th>7</th>\n",
       "      <td>2015-08-02</td>\n",
       "      <td>6.38</td>\n",
       "      <td>0.19</td>\n",
       "    </tr>\n",
       "    <tr>\n",
       "      <th>8</th>\n",
       "      <td>2015-09-01</td>\n",
       "      <td>6.09</td>\n",
       "      <td>0.19</td>\n",
       "    </tr>\n",
       "    <tr>\n",
       "      <th>9</th>\n",
       "      <td>2015-10-01</td>\n",
       "      <td>6.07</td>\n",
       "      <td>0.19</td>\n",
       "    </tr>\n",
       "    <tr>\n",
       "      <th>10</th>\n",
       "      <td>2015-11-01</td>\n",
       "      <td>5.96</td>\n",
       "      <td>0.19</td>\n",
       "    </tr>\n",
       "    <tr>\n",
       "      <th>11</th>\n",
       "      <td>2015-12-01</td>\n",
       "      <td>5.99</td>\n",
       "      <td>0.19</td>\n",
       "    </tr>\n",
       "  </tbody>\n",
       "</table>\n",
       "<p>142 rows × 3 columns</p>\n",
       "</div>"
      ],
      "text/plain": [
       "        datte  gas_price  additional_price_full_service\n",
       "0  2011-01-02       7.14                           0.13\n",
       "1  2011-02-01       7.26                           0.13\n",
       "2  2011-02-14       7.02                           0.13\n",
       "3  2011-03-01       7.30                           0.13\n",
       "4  2011-04-01       7.39                           0.13\n",
       "..        ...        ...                            ...\n",
       "7  2015-08-02       6.38                           0.19\n",
       "8  2015-09-01       6.09                           0.19\n",
       "9  2015-10-01       6.07                           0.19\n",
       "10 2015-11-01       5.96                           0.19\n",
       "11 2015-12-01       5.99                           0.19\n",
       "\n",
       "[142 rows x 3 columns]"
      ]
     },
     "execution_count": 5,
     "metadata": {},
     "output_type": "execute_result"
    }
   ],
   "source": [
    "gasprice # Cleaned output"
   ]
  },
  {
   "cell_type": "markdown",
   "id": "ff6078ed",
   "metadata": {},
   "source": [
    "### What's going on?"
   ]
  },
  {
   "cell_type": "markdown",
   "id": "48f8541d",
   "metadata": {},
   "source": [
    "If you look at the files you'll see some pattern across them. Some start in a specific row and one column off, and others at another row. The first part is basically for checking where do we want to start reading the files from, which we then load accordingly by skipping irrelevant rows. \n",
    "\n",
    "From there it's a basic cleaning process: renaming columns, selecting, removing NA (more irrelevant rows at the end) and mutating the date to a date format column.\n",
    "\n",
    "Below is the plot now easily carried out with clean data."
   ]
  },
  {
   "cell_type": "markdown",
   "id": "4b6c2905",
   "metadata": {},
   "source": [
    "#### Plot"
   ]
  },
  {
   "cell_type": "code",
   "execution_count": 6,
   "id": "148fbf6b",
   "metadata": {},
   "outputs": [
    {
     "data": {
      "image/png": "[encoded data removed]",
      "text/plain": [
       "<Figure size 936x576 with 1 Axes>"
      ]
     },
     "metadata": {},
     "output_type": "display_data"
    }
   ],
   "source": [
    "gasprice = gasprice.sort_values(by = 'datte')\n",
    "\n",
    "\n",
    "fig, ax = plt.subplots(figsize = (13,8))\n",
    "fig.patch.set_facecolor('white')\n",
    "\n",
    "plt.plot(gasprice.datte, gasprice.gas_price)\n",
    "# plt.ylim(0,8.5)\n",
    "plt.xlabel('Date', size = 14)\n",
    "plt.ylabel('Price per liter (NIS)', size = 14)\n",
    "plt.tick_params(bottom = False, left= False)\n",
    "ax.spines[[\"right\", 'top']].set_visible(False)\n",
    "for label in (ax.get_xticklabels() + ax.get_yticklabels()):\n",
    "\tlabel.set_fontsize(11)\n",
    "ax.set_title(\"Gas price in Israel\", fontsize = 24, weight= 'bold',loc = 'left',  pad = 20)\n",
    "plt.savefig('gas_price.png', transparent = False, dpi = 400)\n",
    "plt.show()"
   ]
  }
 ],
 "metadata": {
  "kernelspec": {
   "display_name": "Python 3 (ipykernel)",
   "language": "python",
   "name": "python3"
  },
  "language_info": {
   "codemirror_mode": {
    "name": "ipython",
    "version": 3
   },
   "file_extension": ".py",
   "mimetype": "text/x-python",
   "name": "python",
   "nbconvert_exporter": "python",
   "pygments_lexer": "ipython3",
   "version": "3.10.4"
  }
 },
 "nbformat": 4,
 "nbformat_minor": 5
}
